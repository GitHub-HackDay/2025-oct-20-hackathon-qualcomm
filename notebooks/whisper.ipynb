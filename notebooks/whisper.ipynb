{
 "cells": [
  {
   "cell_type": "markdown",
   "id": "5d3385b2",
   "metadata": {},
   "source": [
    "### Transform model to pte"
   ]
  },
  {
   "cell_type": "code",
   "execution_count": null,
   "id": "8013596b",
   "metadata": {},
   "outputs": [],
   "source": [
    "!python ./third_party/executorch/extension/audio/mel_spectrogram.py"
   ]
  },
  {
   "cell_type": "code",
   "execution_count": null,
   "id": "6d177168",
   "metadata": {},
   "outputs": [],
   "source": [
    "!python ./third_party/executorch/examples/qualcomm/oss_scripts/whisper/whisper.py"
   ]
  },
  {
   "cell_type": "code",
   "execution_count": null,
   "id": "3b8127d8",
   "metadata": {},
   "outputs": [],
   "source": [
    "wget https://huggingface.co/openai/whisper-base/blob/main/vocab.json"
   ]
  },
  {
   "cell_type": "code",
   "execution_count": null,
   "id": "f0daa6b0",
   "metadata": {},
   "outputs": [],
   "source": [
    "adb push whisper_preprocess.pte /data/local/tmp/whisper"
   ]
  },
  {
   "cell_type": "code",
   "execution_count": null,
   "id": "fed40caf",
   "metadata": {},
   "outputs": [],
   "source": [
    "adb push whisper_qnn_16a8w.pte /data/local/tmp/whisper"
   ]
  },
  {
   "cell_type": "code",
   "execution_count": null,
   "id": "99b2a9d9",
   "metadata": {},
   "outputs": [],
   "source": [
    "adb push vocab.json /data/local/tmp/whisper"
   ]
  },
  {
   "cell_type": "code",
   "execution_count": null,
   "id": "1fb7e47d",
   "metadata": {},
   "outputs": [],
   "source": [
    "adb push executorch.aar app/libs"
   ]
  }
 ],
 "metadata": {
  "kernelspec": {
   "display_name": "2025-oct-20-hackathon-qualcomm (3.12.11)",
   "language": "python",
   "name": "python3"
  },
  "language_info": {
   "codemirror_mode": {
    "name": "ipython",
    "version": 3
   },
   "file_extension": ".py",
   "mimetype": "text/x-python",
   "name": "python",
   "nbconvert_exporter": "python",
   "pygments_lexer": "ipython3",
   "version": "3.12.11"
  }
 },
 "nbformat": 4,
 "nbformat_minor": 5
}
