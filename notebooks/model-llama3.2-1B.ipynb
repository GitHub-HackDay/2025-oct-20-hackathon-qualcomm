{
 "cells": [
  {
   "cell_type": "markdown",
   "id": "5d3385b2",
   "metadata": {},
   "source": []
  },
  {
   "cell_type": "code",
   "execution_count": 1,
   "id": "8013596b",
   "metadata": {},
   "outputs": [
    {
     "name": "stdout",
     "output_type": "stream",
     "text": [
      "/Users/fmilo/workspace/sandbox/2025-oct-20-hackathon-qualcomm/notebooks\n"
     ]
    }
   ],
   "source": [
    "!pwd"
   ]
  },
  {
   "cell_type": "code",
   "execution_count": 2,
   "id": "0a16d9f8",
   "metadata": {},
   "outputs": [
    {
     "name": "stdout",
     "output_type": "stream",
     "text": [
      "/Users/fmilo/workspace/sandbox/2025-oct-20-hackathon-qualcomm\n"
     ]
    }
   ],
   "source": [
    "%cd .."
   ]
  },
  {
   "cell_type": "code",
   "execution_count": null,
   "id": "6d177168",
   "metadata": {},
   "outputs": [
    {
     "name": "stdout",
     "output_type": "stream",
     "text": [
      "Cloning into '/Users/fmilo/workspace/sandbox/2025-oct-20-hackathon-qualcomm/third_party/models/Llama3.2-1B'...\n",
      "remote: Enumerating objects: 76, done.\u001b[K\n",
      "remote: Counting objects: 100% (73/73), done.\u001b[K\n",
      "remote: Compressing objects: 100% (73/73), done.\u001b[K\n",
      "remote: Total 76 (delta 33), reused 0 (delta 0), pack-reused 3 (from 1)\u001b[K\n",
      "Unpacking objects: 100% (76/76), 2.27 MiB | 6.48 MiB/s, done.\n"
     ]
    }
   ],
   "source": [
    "!git submodule add https://huggingface.co/meta-llama/Llama-3.2-1B  ./third_party/models/Llama3.2-1B"
   ]
  },
  {
   "cell_type": "code",
   "execution_count": null,
   "id": "3b8127d8",
   "metadata": {},
   "outputs": [],
   "source": [
    "%%writefile third_party/models/Llama-3.2-1B/config.yaml\n",
    "\n",
    "base:\n",
    "  model_class: llama3_2\n",
    "  checkpoint: original/consolidated.00.pth\n",
    "  params: original/params.json\n",
    "  metadata: '{\"get_bos_id\":128000, \"get_eos_ids\":[128009, 128001]}'\n",
    "model:\n",
    "  use_kv_cache: True\n",
    "  use_sdpa_with_kv_cache: True"
   ]
  },
  {
   "cell_type": "code",
   "execution_count": null,
   "id": "14e7e68f",
   "metadata": {},
   "outputs": [],
   "source": [
    "%cd ./third_party/models/Llama-3.2-1B/\n",
    "try:\n",
    "    import sys\n",
    "\n",
    "    !{sys.executable} -m executorch.extension.llm.export.export_llm --config config.yaml \n",
    "finally:\n",
    "    %cd ../../"
   ]
  }
 ],
 "metadata": {
  "kernelspec": {
   "display_name": "2025-oct-20-hackathon-qualcomm (3.12.11)",
   "language": "python",
   "name": "python3"
  },
  "language_info": {
   "codemirror_mode": {
    "name": "ipython",
    "version": 3
   },
   "file_extension": ".py",
   "mimetype": "text/x-python",
   "name": "python",
   "nbconvert_exporter": "python",
   "pygments_lexer": "ipython3",
   "version": "3.12.11"
  }
 },
 "nbformat": 4,
 "nbformat_minor": 5
}
