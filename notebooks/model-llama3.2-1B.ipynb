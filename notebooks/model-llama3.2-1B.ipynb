{
 "cells": [
  {
   "cell_type": "code",
   "execution_count": null,
   "id": "0a16d9f8",
   "metadata": {},
   "outputs": [],
   "source": [
    "%cd .."
   ]
  },
  {
   "cell_type": "code",
   "execution_count": null,
   "id": "6d177168",
   "metadata": {},
   "outputs": [],
   "source": [
    "!git submodule add https://huggingface.co/meta-llama/Llama-3.2-1B  ./third_party/models/Llama3.2-1B"
   ]
  },
  {
   "cell_type": "code",
   "execution_count": null,
   "id": "3b8127d8",
   "metadata": {},
   "outputs": [],
   "source": []
  }
 ],
 "metadata": {
  "kernelspec": {
   "display_name": "2025-oct-20-hackathon-qualcomm (3.12.11)",
   "language": "python",
   "name": "python3"
  },
  "language_info": {
   "codemirror_mode": {
    "name": "ipython",
    "version": 3
   },
   "file_extension": ".py",
   "mimetype": "text/x-python",
   "name": "python",
   "nbconvert_exporter": "python",
   "pygments_lexer": "ipython3",
   "version": "3.12.11"
  }
 },
 "nbformat": 4,
 "nbformat_minor": 5
}
